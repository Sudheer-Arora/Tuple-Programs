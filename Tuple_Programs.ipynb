{
  "nbformat": 4,
  "nbformat_minor": 0,
  "metadata": {
    "colab": {
      "provenance": [],
      "authorship_tag": "ABX9TyO1mNc1ETkjiovAWbTAqMIk",
      "include_colab_link": true
    },
    "kernelspec": {
      "name": "python3",
      "display_name": "Python 3"
    },
    "language_info": {
      "name": "python"
    }
  },
  "cells": [
    {
      "cell_type": "markdown",
      "metadata": {
        "id": "view-in-github",
        "colab_type": "text"
      },
      "source": [
        "<a href=\"https://colab.research.google.com/github/Sudheer-Arora/Tuple-Programs/blob/main/Tuple_Programs.ipynb\" target=\"_parent\"><img src=\"https://colab.research.google.com/assets/colab-badge.svg\" alt=\"Open In Colab\"/></a>"
      ]
    },
    {
      "cell_type": "code",
      "execution_count": 5,
      "metadata": {
        "colab": {
          "base_uri": "https://localhost:8080/"
        },
        "id": "RTYVrhlz83lo",
        "outputId": "14ac6653-5d9c-4bd2-a0be-f3fc5d38c31f"
      },
      "outputs": [
        {
          "output_type": "stream",
          "name": "stdout",
          "text": [
            "(1, 2, 3, 4, -5, -8)\n",
            "4\n",
            "-8\n"
          ]
        }
      ],
      "source": [
        "t1=(1,2,3,4,-5,-8)\n",
        "print(t1)\n",
        "print(t1[3])\n",
        "print(t1[-1])"
      ]
    },
    {
      "cell_type": "code",
      "source": [
        "t1=(2,3,4,5,-1,-2,-3)\n",
        "print(len(t1))"
      ],
      "metadata": {
        "colab": {
          "base_uri": "https://localhost:8080/"
        },
        "id": "Lw1diYyG93hx",
        "outputId": "534acd4a-d3c8-47b9-f742-e842293bb688"
      },
      "execution_count": 9,
      "outputs": [
        {
          "output_type": "stream",
          "name": "stdout",
          "text": [
            "7\n"
          ]
        }
      ]
    },
    {
      "cell_type": "code",
      "source": [
        "t1=(1,2,3,4,5,-1,-2,'abc',15.5)\n",
        "print(t1[7])\n",
        "print(t1[-1])\n",
        "print(t1[1:5])\n",
        "print(t1[2:])\n",
        "print(t1[:6])\n",
        "print(t1[:15])\n",
        "print(t1[2:6:2])\n",
        "print(t1[-1::-1])"
      ],
      "metadata": {
        "colab": {
          "base_uri": "https://localhost:8080/"
        },
        "id": "uQY-luLC-RrK",
        "outputId": "a039f81f-99ea-4bad-f360-d42fe5d64c47"
      },
      "execution_count": 14,
      "outputs": [
        {
          "output_type": "stream",
          "name": "stdout",
          "text": [
            "abc\n",
            "15.5\n",
            "(2, 3, 4, 5)\n",
            "(3, 4, 5, -1, -2, 'abc', 15.5)\n",
            "(1, 2, 3, 4, 5, -1)\n",
            "(1, 2, 3, 4, 5, -1, -2, 'abc', 15.5)\n",
            "(3, 5)\n",
            "(15.5, 'abc', -2, -1, 5, 4, 3, 2, 1)\n"
          ]
        }
      ]
    },
    {
      "cell_type": "code",
      "source": [
        "#Tuple operators\n",
        "#   + (concatenation operator)\n",
        "t1=(1,2,3,4)\n",
        "t2=(5,6,7,8)\n",
        "print(t1+t2)\n",
        "#   * (repetition operator)\n",
        "t=(1,2,3)\n",
        "print(t*3)"
      ],
      "metadata": {
        "colab": {
          "base_uri": "https://localhost:8080/"
        },
        "id": "RgacJD5u-ngG",
        "outputId": "7ef59aed-70c4-4c1e-b980-a7dde970f95f"
      },
      "execution_count": 15,
      "outputs": [
        {
          "output_type": "stream",
          "name": "stdout",
          "text": [
            "(1, 2, 3, 4, 5, 6, 7, 8)\n",
            "(1, 2, 3, 1, 2, 3, 1, 2, 3)\n"
          ]
        }
      ]
    },
    {
      "cell_type": "code",
      "source": [
        "#Tuple function(1-len,2-min,3-max,4-sorted,5-cmp)\n",
        "t=(4,5,1,2,3)\n",
        "print(len(t))\n",
        "print(min(t))\n",
        "print(sum(t))\n",
        "print(max(t))\n",
        "print(sorted(t))\n",
        "print(t)\n",
        "t1=(1,2,3)\n",
        "t2=(4,5,6)\n",
        "print(t1<t2)\n",
        "print(t1>t2)\n",
        "print(t1==t2)\n",
        "print(t1!=t2)"
      ],
      "metadata": {
        "colab": {
          "base_uri": "https://localhost:8080/"
        },
        "id": "o4nMtfpC-7Ra",
        "outputId": "d77f8b78-1e80-45de-89b4-9a9ffb566794"
      },
      "execution_count": 18,
      "outputs": [
        {
          "output_type": "stream",
          "name": "stdout",
          "text": [
            "5\n",
            "1\n",
            "15\n",
            "5\n",
            "[1, 2, 3, 4, 5]\n",
            "(4, 5, 1, 2, 3)\n",
            "True\n",
            "False\n",
            "False\n",
            "True\n"
          ]
        }
      ]
    },
    {
      "cell_type": "code",
      "source": [
        "#Tuple methods:-\n",
        "#count():\n",
        "t=(1,2,3,4)\n",
        "print(t.count(3))\n",
        "#index():\n",
        "t=(1,2,3,4)\n",
        "print(t.index(2))\n",
        "#unpacking:\n",
        "t=(1,2,3)\n",
        "a,b,c=t\n",
        "print(a)\n",
        "print(b)\n",
        "print(c)"
      ],
      "metadata": {
        "colab": {
          "base_uri": "https://localhost:8080/"
        },
        "id": "gs69phXc_siB",
        "outputId": "908a7d16-b58a-44d1-d13f-051152151bca"
      },
      "execution_count": 19,
      "outputs": [
        {
          "output_type": "stream",
          "name": "stdout",
          "text": [
            "1\n",
            "1\n",
            "1\n",
            "2\n",
            "3\n"
          ]
        }
      ]
    },
    {
      "cell_type": "code",
      "source": [
        "# WAP to get the 4th element from the last element of a tuple.\n",
        "t=(1,2,3,4,5,6,7,8,9,11,22,33)\n",
        "print(t)\n",
        "last_index=len(t)-1\n",
        "fourth_element=last_index-3\n",
        "print(t[fourth_element])\n",
        "print(t[last_index])"
      ],
      "metadata": {
        "colab": {
          "base_uri": "https://localhost:8080/"
        },
        "id": "lottBEkn_0rI",
        "outputId": "a99fb433-bc32-4d19-fce2-4fa8017dfbe1"
      },
      "execution_count": 20,
      "outputs": [
        {
          "output_type": "stream",
          "name": "stdout",
          "text": [
            "(1, 2, 3, 4, 5, 6, 7, 8, 9, 11, 22, 33)\n",
            "9\n",
            "33\n"
          ]
        }
      ]
    },
    {
      "cell_type": "code",
      "source": [
        "#WAP to find repeated items in a tuple.\n",
        "t=(1,2,3,4,5,6,7,3,4,2,5,1,8)\n",
        "l=[]\n",
        "for i in t:\n",
        "    if t.count(i)>1:\n",
        "        if i not in l:\n",
        "            l.append(i)\n",
        "print(l)"
      ],
      "metadata": {
        "colab": {
          "base_uri": "https://localhost:8080/"
        },
        "id": "4_jRigaWAKqD",
        "outputId": "c6a01ee6-06aa-41b5-b2a3-69fdacbfa61f"
      },
      "execution_count": 21,
      "outputs": [
        {
          "output_type": "stream",
          "name": "stdout",
          "text": [
            "[1, 2, 3, 4, 5]\n"
          ]
        }
      ]
    },
    {
      "cell_type": "code",
      "source": [
        "#WAP to check whether an element exists with in a tuple.\n",
        "t=(2,4,6,1,8,3,11,4,7,8)\n",
        "x=int(input('Enter the any element'))\n",
        "if x in t:\n",
        "      print('Element is exists')\n",
        "else:\n",
        "     print('Element not exists')"
      ],
      "metadata": {
        "colab": {
          "base_uri": "https://localhost:8080/"
        },
        "id": "h6OxRuyqAZ0h",
        "outputId": "16dd1dbc-5565-4933-b07e-225cf8f5ba90"
      },
      "execution_count": 22,
      "outputs": [
        {
          "output_type": "stream",
          "name": "stdout",
          "text": [
            "Enter the any element4\n",
            "Element is exists\n"
          ]
        }
      ]
    }
  ]
}